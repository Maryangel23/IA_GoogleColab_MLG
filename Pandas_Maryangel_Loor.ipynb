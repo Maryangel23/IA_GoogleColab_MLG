{
  "nbformat": 4,
  "nbformat_minor": 0,
  "metadata": {
    "colab": {
      "provenance": []
    },
    "kernelspec": {
      "name": "python3",
      "display_name": "Python 3"
    },
    "language_info": {
      "name": "python"
    }
  },
  "cells": [
    {
      "cell_type": "markdown",
      "source": [
        "*   **MARYANGEL** **LOOR** **GILER**\n",
        "*   **OCTAVO** **TI**\n",
        "\n",
        "\n"
      ],
      "metadata": {
        "id": "-_VDsI6Rrgcs"
      }
    },
    {
      "cell_type": "code",
      "execution_count": 46,
      "metadata": {
        "id": "OKem36SGker5",
        "colab": {
          "base_uri": "https://localhost:8080/",
          "height": 144
        },
        "outputId": "09d7d641-fb13-4462-ed33-7686ef6c6790"
      },
      "outputs": [
        {
          "output_type": "execute_result",
          "data": {
            "text/plain": [
              "   station_id       stationname        date daytype  rides\n",
              "0       41280    Jefferson Park  12/22/2017       W   6104\n",
              "1       41000  Cermak-Chinatown  12/18/2017       W   3636\n",
              "2       40280      Central-Lake  12/02/2017       A   1270"
            ],
            "text/html": [
              "\n",
              "  <div id=\"df-e9864ff5-788c-443b-85ed-3ef95bbd2b93\">\n",
              "    <div class=\"colab-df-container\">\n",
              "      <div>\n",
              "<style scoped>\n",
              "    .dataframe tbody tr th:only-of-type {\n",
              "        vertical-align: middle;\n",
              "    }\n",
              "\n",
              "    .dataframe tbody tr th {\n",
              "        vertical-align: top;\n",
              "    }\n",
              "\n",
              "    .dataframe thead th {\n",
              "        text-align: right;\n",
              "    }\n",
              "</style>\n",
              "<table border=\"1\" class=\"dataframe\">\n",
              "  <thead>\n",
              "    <tr style=\"text-align: right;\">\n",
              "      <th></th>\n",
              "      <th>station_id</th>\n",
              "      <th>stationname</th>\n",
              "      <th>date</th>\n",
              "      <th>daytype</th>\n",
              "      <th>rides</th>\n",
              "    </tr>\n",
              "  </thead>\n",
              "  <tbody>\n",
              "    <tr>\n",
              "      <th>0</th>\n",
              "      <td>41280</td>\n",
              "      <td>Jefferson Park</td>\n",
              "      <td>12/22/2017</td>\n",
              "      <td>W</td>\n",
              "      <td>6104</td>\n",
              "    </tr>\n",
              "    <tr>\n",
              "      <th>1</th>\n",
              "      <td>41000</td>\n",
              "      <td>Cermak-Chinatown</td>\n",
              "      <td>12/18/2017</td>\n",
              "      <td>W</td>\n",
              "      <td>3636</td>\n",
              "    </tr>\n",
              "    <tr>\n",
              "      <th>2</th>\n",
              "      <td>40280</td>\n",
              "      <td>Central-Lake</td>\n",
              "      <td>12/02/2017</td>\n",
              "      <td>A</td>\n",
              "      <td>1270</td>\n",
              "    </tr>\n",
              "  </tbody>\n",
              "</table>\n",
              "</div>\n",
              "      <button class=\"colab-df-convert\" onclick=\"convertToInteractive('df-e9864ff5-788c-443b-85ed-3ef95bbd2b93')\"\n",
              "              title=\"Convert this dataframe to an interactive table.\"\n",
              "              style=\"display:none;\">\n",
              "        \n",
              "  <svg xmlns=\"http://www.w3.org/2000/svg\" height=\"24px\"viewBox=\"0 0 24 24\"\n",
              "       width=\"24px\">\n",
              "    <path d=\"M0 0h24v24H0V0z\" fill=\"none\"/>\n",
              "    <path d=\"M18.56 5.44l.94 2.06.94-2.06 2.06-.94-2.06-.94-.94-2.06-.94 2.06-2.06.94zm-11 1L8.5 8.5l.94-2.06 2.06-.94-2.06-.94L8.5 2.5l-.94 2.06-2.06.94zm10 10l.94 2.06.94-2.06 2.06-.94-2.06-.94-.94-2.06-.94 2.06-2.06.94z\"/><path d=\"M17.41 7.96l-1.37-1.37c-.4-.4-.92-.59-1.43-.59-.52 0-1.04.2-1.43.59L10.3 9.45l-7.72 7.72c-.78.78-.78 2.05 0 2.83L4 21.41c.39.39.9.59 1.41.59.51 0 1.02-.2 1.41-.59l7.78-7.78 2.81-2.81c.8-.78.8-2.07 0-2.86zM5.41 20L4 18.59l7.72-7.72 1.47 1.35L5.41 20z\"/>\n",
              "  </svg>\n",
              "      </button>\n",
              "      \n",
              "  <style>\n",
              "    .colab-df-container {\n",
              "      display:flex;\n",
              "      flex-wrap:wrap;\n",
              "      gap: 12px;\n",
              "    }\n",
              "\n",
              "    .colab-df-convert {\n",
              "      background-color: #E8F0FE;\n",
              "      border: none;\n",
              "      border-radius: 50%;\n",
              "      cursor: pointer;\n",
              "      display: none;\n",
              "      fill: #1967D2;\n",
              "      height: 32px;\n",
              "      padding: 0 0 0 0;\n",
              "      width: 32px;\n",
              "    }\n",
              "\n",
              "    .colab-df-convert:hover {\n",
              "      background-color: #E2EBFA;\n",
              "      box-shadow: 0px 1px 2px rgba(60, 64, 67, 0.3), 0px 1px 3px 1px rgba(60, 64, 67, 0.15);\n",
              "      fill: #174EA6;\n",
              "    }\n",
              "\n",
              "    [theme=dark] .colab-df-convert {\n",
              "      background-color: #3B4455;\n",
              "      fill: #D2E3FC;\n",
              "    }\n",
              "\n",
              "    [theme=dark] .colab-df-convert:hover {\n",
              "      background-color: #434B5C;\n",
              "      box-shadow: 0px 1px 3px 1px rgba(0, 0, 0, 0.15);\n",
              "      filter: drop-shadow(0px 1px 2px rgba(0, 0, 0, 0.3));\n",
              "      fill: #FFFFFF;\n",
              "    }\n",
              "  </style>\n",
              "\n",
              "      <script>\n",
              "        const buttonEl =\n",
              "          document.querySelector('#df-e9864ff5-788c-443b-85ed-3ef95bbd2b93 button.colab-df-convert');\n",
              "        buttonEl.style.display =\n",
              "          google.colab.kernel.accessAllowed ? 'block' : 'none';\n",
              "\n",
              "        async function convertToInteractive(key) {\n",
              "          const element = document.querySelector('#df-e9864ff5-788c-443b-85ed-3ef95bbd2b93');\n",
              "          const dataTable =\n",
              "            await google.colab.kernel.invokeFunction('convertToInteractive',\n",
              "                                                     [key], {});\n",
              "          if (!dataTable) return;\n",
              "\n",
              "          const docLinkHtml = 'Like what you see? Visit the ' +\n",
              "            '<a target=\"_blank\" href=https://colab.research.google.com/notebooks/data_table.ipynb>data table notebook</a>'\n",
              "            + ' to learn more about interactive tables.';\n",
              "          element.innerHTML = '';\n",
              "          dataTable['output_type'] = 'display_data';\n",
              "          await google.colab.output.renderOutput(dataTable, element);\n",
              "          const docLink = document.createElement('div');\n",
              "          docLink.innerHTML = docLinkHtml;\n",
              "          element.appendChild(docLink);\n",
              "        }\n",
              "      </script>\n",
              "    </div>\n",
              "  </div>\n",
              "  "
            ]
          },
          "metadata": {},
          "execution_count": 46
        }
      ],
      "source": [
        "import pandas as pd\n",
        "\n",
        "\n",
        "url='https://raw.githubusercontent.com/Sinchiguano/chicagoUniversity/main/cta_Ridership.csv'\n",
        "\n",
        "ridership=pd.read_csv(url)\n",
        "ridership.head(3)"
      ]
    },
    {
      "cell_type": "markdown",
      "source": [
        "**BASIC** **EXPLORATION**"
      ],
      "metadata": {
        "id": "ACZcS8eHrbno"
      }
    },
    {
      "cell_type": "code",
      "source": [
        "# shape\n",
        "print(ridership.shape)"
      ],
      "metadata": {
        "id": "0wz7qqOjrfWs",
        "colab": {
          "base_uri": "https://localhost:8080/"
        },
        "outputId": "04e2de8a-66b9-4169-ce64-a1acec7a3ddb"
      },
      "execution_count": 47,
      "outputs": [
        {
          "output_type": "stream",
          "name": "stdout",
          "text": [
            "(1145586, 5)\n"
          ]
        }
      ]
    },
    {
      "cell_type": "code",
      "source": [
        "# head\n",
        "print(ridership.head(3))"
      ],
      "metadata": {
        "colab": {
          "base_uri": "https://localhost:8080/"
        },
        "id": "OidQg7i4OBPf",
        "outputId": "b6ea6902-3a9c-4a6a-d976-1f95fa4b98ce"
      },
      "execution_count": 48,
      "outputs": [
        {
          "output_type": "stream",
          "name": "stdout",
          "text": [
            "   station_id       stationname        date daytype  rides\n",
            "0       41280    Jefferson Park  12/22/2017       W   6104\n",
            "1       41000  Cermak-Chinatown  12/18/2017       W   3636\n",
            "2       40280      Central-Lake  12/02/2017       A   1270\n"
          ]
        }
      ]
    },
    {
      "cell_type": "code",
      "source": [
        "# tail\n",
        "print(ridership.tail(3))"
      ],
      "metadata": {
        "colab": {
          "base_uri": "https://localhost:8080/"
        },
        "id": "DH3fMkVtOE1N",
        "outputId": "33ad4d38-e82e-4515-8a68-3a107a71c376"
      },
      "execution_count": 49,
      "outputs": [
        {
          "output_type": "stream",
          "name": "stdout",
          "text": [
            "         station_id        stationname        date daytype  rides\n",
            "1145583       41700  Washington/Wabash  12/29/2022       W   4741\n",
            "1145584       41700  Washington/Wabash  12/30/2022       W   4664\n",
            "1145585       41700  Washington/Wabash  12/31/2022       A   2774\n"
          ]
        }
      ]
    },
    {
      "cell_type": "code",
      "source": [
        "# type\n",
        "print(type(ridership))"
      ],
      "metadata": {
        "colab": {
          "base_uri": "https://localhost:8080/"
        },
        "id": "KkVhAKFWOI0v",
        "outputId": "aad7616d-2489-4790-a9b9-9198e7277c06"
      },
      "execution_count": 50,
      "outputs": [
        {
          "output_type": "stream",
          "name": "stdout",
          "text": [
            "<class 'pandas.core.frame.DataFrame'>\n"
          ]
        }
      ]
    },
    {
      "cell_type": "code",
      "source": [
        "# dtypes\n",
        "print(ridership.dtypes)"
      ],
      "metadata": {
        "colab": {
          "base_uri": "https://localhost:8080/"
        },
        "id": "uhITspFCONmG",
        "outputId": "d111caec-de47-47b5-948a-a2df1fdc8809"
      },
      "execution_count": 51,
      "outputs": [
        {
          "output_type": "stream",
          "name": "stdout",
          "text": [
            "station_id      int64\n",
            "stationname    object\n",
            "date           object\n",
            "daytype        object\n",
            "rides           int64\n",
            "dtype: object\n"
          ]
        }
      ]
    },
    {
      "cell_type": "markdown",
      "source": [
        "**What are some basic statistics about the data?**"
      ],
      "metadata": {
        "id": "RrpyUjAU_Wx7"
      }
    },
    {
      "cell_type": "code",
      "source": [
        "statistics = ridership.describe()\n",
        "print(statistics)"
      ],
      "metadata": {
        "colab": {
          "base_uri": "https://localhost:8080/"
        },
        "id": "FNqSW4ucJOxB",
        "outputId": "69a4b26c-d6ae-49d5-d899-32d5a23a1251"
      },
      "execution_count": 52,
      "outputs": [
        {
          "output_type": "stream",
          "name": "stdout",
          "text": [
            "         station_id         rides\n",
            "count  1.145586e+06  1.145586e+06\n",
            "mean   4.076649e+04  3.056635e+03\n",
            "std    4.490665e+02  3.118576e+03\n",
            "min    4.001000e+04  0.000000e+00\n",
            "25%    4.037000e+04  9.630000e+02\n",
            "50%    4.076000e+04  2.004000e+03\n",
            "75%    4.115000e+04  4.025000e+03\n",
            "max    4.170000e+04  3.632300e+04\n"
          ]
        }
      ]
    },
    {
      "cell_type": "markdown",
      "source": [
        "**Selection Based on Conditionals**"
      ],
      "metadata": {
        "id": "qYvZndDCKmQW"
      }
    },
    {
      "cell_type": "code",
      "source": [
        "# min\n",
        "ridership['rides'].min()"
      ],
      "metadata": {
        "colab": {
          "base_uri": "https://localhost:8080/"
        },
        "id": "X3FOE6GAMaWD",
        "outputId": "b69886ae-080d-45cb-f4e9-12f7a4da8dda"
      },
      "execution_count": 53,
      "outputs": [
        {
          "output_type": "execute_result",
          "data": {
            "text/plain": [
              "0"
            ]
          },
          "metadata": {},
          "execution_count": 53
        }
      ]
    },
    {
      "cell_type": "code",
      "source": [
        "# max\n",
        "ridership['rides'].max()"
      ],
      "metadata": {
        "colab": {
          "base_uri": "https://localhost:8080/"
        },
        "id": "z710UqshMxoH",
        "outputId": "7783aa1e-001a-4d36-cdc7-982fcb87ea7c"
      },
      "execution_count": 54,
      "outputs": [
        {
          "output_type": "execute_result",
          "data": {
            "text/plain": [
              "36323"
            ]
          },
          "metadata": {},
          "execution_count": 54
        }
      ]
    },
    {
      "cell_type": "markdown",
      "source": [
        "**Create a Time Index**\n"
      ],
      "metadata": {
        "id": "RcZKi13gOn5u"
      }
    },
    {
      "cell_type": "code",
      "source": [
        "ridership['date']=pd.to_datetime(ridership['date'])\n",
        "ridership.set_index('date', inplace=True)\n",
        "\n",
        "print(ridership.head())"
      ],
      "metadata": {
        "colab": {
          "base_uri": "https://localhost:8080/"
        },
        "id": "20_s4eWIPm1Z",
        "outputId": "2adbb29c-2c8e-4db7-b173-ca8204616a3c"
      },
      "execution_count": 55,
      "outputs": [
        {
          "output_type": "stream",
          "name": "stdout",
          "text": [
            "            station_id       stationname daytype  rides\n",
            "date                                                   \n",
            "2017-12-22       41280    Jefferson Park       W   6104\n",
            "2017-12-18       41000  Cermak-Chinatown       W   3636\n",
            "2017-12-02       40280      Central-Lake       A   1270\n",
            "2017-12-19       40140   Dempster-Skokie       W   1759\n",
            "2017-12-03       40690          Dempster       U    499\n"
          ]
        }
      ]
    },
    {
      "cell_type": "markdown",
      "source": [
        "**Sort the Dataframe by Date**"
      ],
      "metadata": {
        "id": "OV7Y96W4ROA5"
      }
    },
    {
      "cell_type": "code",
      "source": [
        "sorted = ridership.sort_values(by='date')\n",
        "\n",
        "print(sorted.head())"
      ],
      "metadata": {
        "colab": {
          "base_uri": "https://localhost:8080/"
        },
        "id": "HPB_173bRQPl",
        "outputId": "a3e7d91f-d533-401d-a06d-a646d8cb5e35"
      },
      "execution_count": 56,
      "outputs": [
        {
          "output_type": "stream",
          "name": "stdout",
          "text": [
            "            station_id     stationname daytype  rides\n",
            "date                                                 \n",
            "2001-01-01       41290         Kimball       U    869\n",
            "2001-01-01       40090     Damen-Brown       U    411\n",
            "2001-01-01       40850         Library       U    156\n",
            "2001-01-01       40650  North/Clybourn       U   1156\n",
            "2001-01-01       40290    Ashland/63rd       U    540\n"
          ]
        }
      ]
    },
    {
      "cell_type": "markdown",
      "source": [
        "**Sanity Checking**"
      ],
      "metadata": {
        "id": "VZzyQFk2So2i"
      }
    },
    {
      "cell_type": "code",
      "source": [
        "# Garfield-Dan Ryan\n",
        "Garfield_Dan_Ryan = ridership[ridership['stationname'].isin(['Garfield-Dan Ryan'])]\n",
        "\n",
        "print(Garfield_Dan_Ryan.head())"
      ],
      "metadata": {
        "colab": {
          "base_uri": "https://localhost:8080/"
        },
        "id": "6-A2E0T9Su9A",
        "outputId": "c000d55a-a366-41a9-9ff4-0c7c7e71f55c"
      },
      "execution_count": 70,
      "outputs": [
        {
          "output_type": "stream",
          "name": "stdout",
          "text": [
            "            station_id        stationname daytype  rides\n",
            "date                                                    \n",
            "2017-12-22       41170  Garfield-Dan Ryan       W   3040\n",
            "2017-12-05       41170  Garfield-Dan Ryan       W   3217\n",
            "2017-12-27       41170  Garfield-Dan Ryan       W   2016\n",
            "2017-12-02       41170  Garfield-Dan Ryan       A   2624\n",
            "2017-12-19       41170  Garfield-Dan Ryan       W   2958\n"
          ]
        }
      ]
    },
    {
      "cell_type": "code",
      "source": [
        "# Garfield-South Elevated\n",
        "Garfield_South_Elevated = ridership[ridership['stationname'].isin(['Garfield-South Elevated'])]\n",
        "\n",
        "print(Garfield_South_Elevated.head())"
      ],
      "metadata": {
        "colab": {
          "base_uri": "https://localhost:8080/"
        },
        "id": "JjrMZKIaWhfq",
        "outputId": "ccc1665b-7e66-49a9-b518-441dab6bd0a9"
      },
      "execution_count": 71,
      "outputs": [
        {
          "output_type": "stream",
          "name": "stdout",
          "text": [
            "            station_id              stationname daytype  rides\n",
            "date                                                          \n",
            "2017-12-22       40510  Garfield-South Elevated       W   1042\n",
            "2017-12-24       40510  Garfield-South Elevated       U    431\n",
            "2017-12-09       40510  Garfield-South Elevated       A    688\n",
            "2017-12-17       40510  Garfield-South Elevated       U    486\n",
            "2017-12-31       40510  Garfield-South Elevated       U    393\n"
          ]
        }
      ]
    },
    {
      "cell_type": "markdown",
      "source": [
        "**Visualizing Timeseries Data**"
      ],
      "metadata": {
        "id": "TJmpkb_rU439"
      }
    },
    {
      "cell_type": "code",
      "source": [
        "import matplotlib.pyplot as plt\n",
        "import seaborn as sns"
      ],
      "metadata": {
        "id": "BtuWAiFyVHbz"
      },
      "execution_count": 68,
      "outputs": []
    },
    {
      "cell_type": "code",
      "source": [
        "sns.set(rc={'figure.figsize':(11, 4)})\n",
        "Garfield_Dan_Ryan['rides'].plot(linewidth=0.5)"
      ],
      "metadata": {
        "colab": {
          "base_uri": "https://localhost:8080/",
          "height": 395
        },
        "id": "e7eo16LjXBIn",
        "outputId": "1951afd5-4ef8-4730-d381-2805ab1d4216"
      },
      "execution_count": 72,
      "outputs": [
        {
          "output_type": "execute_result",
          "data": {
            "text/plain": [
              "<Axes: xlabel='date'>"
            ]
          },
          "metadata": {},
          "execution_count": 72
        },
        {
          "output_type": "display_data",
          "data": {
            "text/plain": [
              "<Figure size 1100x400 with 1 Axes>"
            ],
            "image/png": "[encoded data removed]"
          },
          "metadata": {}
        }
      ]
    },
    {
      "cell_type": "code",
      "source": [
        "sns.set(rc={'figure.figsize':(11, 4)})\n",
        "Garfield_South_Elevated['rides'].plot(linewidth=0.5)"
      ],
      "metadata": {
        "colab": {
          "base_uri": "https://localhost:8080/",
          "height": 395
        },
        "id": "EarugdBGXFqP",
        "outputId": "8874a244-adcd-4344-fe6c-de7b906d9e6b"
      },
      "execution_count": 73,
      "outputs": [
        {
          "output_type": "execute_result",
          "data": {
            "text/plain": [
              "<Axes: xlabel='date'>"
            ]
          },
          "metadata": {},
          "execution_count": 73
        },
        {
          "output_type": "display_data",
          "data": {
            "text/plain": [
              "<Figure size 1100x400 with 1 Axes>"
            ],
            "image/png": "[encoded data removed]"
          },
          "metadata": {}
        }
      ]
    }
  ]
}