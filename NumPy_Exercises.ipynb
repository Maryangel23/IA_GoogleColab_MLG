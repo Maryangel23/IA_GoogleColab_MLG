{
  "nbformat": 4,
  "nbformat_minor": 0,
  "metadata": {
    "colab": {
      "provenance": []
    },
    "kernelspec": {
      "name": "python3",
      "display_name": "Python 3"
    },
    "language_info": {
      "name": "python"
    }
  },
  "cells": [
    {
      "cell_type": "markdown",
      "source": [
        "\n",
        "*   MARYANGEL LOOR GILER\n",
        "*   OCTAVO NIVEL\n",
        "\n"
      ],
      "metadata": {
        "id": "41QfrqJ-eTLV"
      }
    },
    {
      "cell_type": "code",
      "execution_count": 1,
      "metadata": {
        "colab": {
          "base_uri": "https://localhost:8080/"
        },
        "id": "6BqlYu3oeMPc",
        "outputId": "0015c7dc-0b7d-46de-fef3-ca3b8f2a7897"
      },
      "outputs": [
        {
          "output_type": "stream",
          "name": "stdout",
          "text": [
            "1.22.4\n"
          ]
        }
      ],
      "source": [
        "# 1. Import numpy as np and see the version\n",
        "import numpy as np\n",
        "\n",
        "print(np.__version__)\n",
        "pass"
      ]
    },
    {
      "cell_type": "code",
      "source": [
        "# 2. Create a 1D array of numbers from 0 to 9\n",
        "\n",
        "array_1d=np.array([0,1,2,3,4,5,6,7,8,9])\n",
        "\n",
        "print(array_1d)"
      ],
      "metadata": {
        "colab": {
          "base_uri": "https://localhost:8080/"
        },
        "id": "gpL7QFOOe1vJ",
        "outputId": "a7de0db6-7e8e-4e26-c685-903e91758552"
      },
      "execution_count": 3,
      "outputs": [
        {
          "output_type": "stream",
          "name": "stdout",
          "text": [
            "[0 1 2 3 4 5 6 7 8 9]\n"
          ]
        }
      ]
    },
    {
      "cell_type": "code",
      "source": [
        "# 3. Create a 3×3 numpy array of all True’s\n",
        "\n",
        "array_2d=np.ones((3,3), dtype=bool)\n",
        "\n",
        "print(array_2d)"
      ],
      "metadata": {
        "colab": {
          "base_uri": "https://localhost:8080/"
        },
        "id": "Dmcz8-91fipA",
        "outputId": "94ccfa8b-dac0-49ae-e52a-551c7c1e30fd"
      },
      "execution_count": 4,
      "outputs": [
        {
          "output_type": "stream",
          "name": "stdout",
          "text": [
            "[[ True  True  True]\n",
            " [ True  True  True]\n",
            " [ True  True  True]]\n"
          ]
        }
      ]
    },
    {
      "cell_type": "code",
      "source": [
        "# 4. Extract all odd numbers from arr\n",
        "\n",
        "arr=[0,1,2,3,4,5,6,7,8,9]\n",
        "odd_numbers={num for num in arr if num %2!=0}\n",
        "\n",
        "print(odd_numbers)"
      ],
      "metadata": {
        "colab": {
          "base_uri": "https://localhost:8080/"
        },
        "id": "6ScvXTb5gCCP",
        "outputId": "3bcfe576-14c2-4fbe-c661-0dbea6ea60a1"
      },
      "execution_count": 6,
      "outputs": [
        {
          "output_type": "stream",
          "name": "stdout",
          "text": [
            "{1, 3, 5, 7, 9}\n"
          ]
        }
      ]
    },
    {
      "cell_type": "code",
      "source": [
        "# 5. Replace all odd numbers in arr with -1\n",
        "\n",
        "arr=np.array([0,1,2,3,4,5,6,7,8,9])\n",
        "arr[arr %2!=0]=-1\n",
        "\n",
        "print(arr)"
      ],
      "metadata": {
        "colab": {
          "base_uri": "https://localhost:8080/"
        },
        "id": "68e8w_Cog6sg",
        "outputId": "70cc8254-e9be-4a64-e169-f2532cc65471"
      },
      "execution_count": 7,
      "outputs": [
        {
          "output_type": "stream",
          "name": "stdout",
          "text": [
            "[ 0 -1  2 -1  4 -1  6 -1  8 -1]\n"
          ]
        }
      ]
    },
    {
      "cell_type": "code",
      "source": [
        "#  6. Convert a 1D array to a 2D array with 2 rows\n",
        "\n",
        "arr_1d=np.array([0,1,2,3,4,5,6,7,8,9])\n",
        "arr_2d=arr_1d.reshape(2, -1)\n",
        "\n",
        "print(arr_2d)"
      ],
      "metadata": {
        "colab": {
          "base_uri": "https://localhost:8080/"
        },
        "id": "utQ1U3-dhhq7",
        "outputId": "c57aa4ed-2c31-450a-b19e-0e68dcbbc069"
      },
      "execution_count": 8,
      "outputs": [
        {
          "output_type": "stream",
          "name": "stdout",
          "text": [
            "[[0 1 2 3 4]\n",
            " [5 6 7 8 9]]\n"
          ]
        }
      ]
    },
    {
      "cell_type": "code",
      "source": [
        "#  7. Stack arrays a and b vertically\n",
        "\n",
        "a=np.array([0,1,2])\n",
        "b=np.array([3,4,5])\n",
        "result=np.vstack((a,b))\n",
        "\n",
        "print(result)"
      ],
      "metadata": {
        "colab": {
          "base_uri": "https://localhost:8080/"
        },
        "id": "gny_AfvwiTRr",
        "outputId": "af28868b-1094-4de3-a1b8-3aaa31b4176a"
      },
      "execution_count": 9,
      "outputs": [
        {
          "output_type": "stream",
          "name": "stdout",
          "text": [
            "[[0 1 2]\n",
            " [3 4 5]]\n"
          ]
        }
      ]
    },
    {
      "cell_type": "code",
      "source": [
        "#  8. Stack the arrays a and b horizontally.\n",
        "\n",
        "a=np.array([0,1,2])\n",
        "b=np.array([3,4,5])\n",
        "result=np.hstack((a,b))\n",
        "\n",
        "print(result)"
      ],
      "metadata": {
        "colab": {
          "base_uri": "https://localhost:8080/"
        },
        "id": "x8upTUa-jHvo",
        "outputId": "eb11d6d6-8ac5-4ba9-941f-ce973a6021ff"
      },
      "execution_count": 10,
      "outputs": [
        {
          "output_type": "stream",
          "name": "stdout",
          "text": [
            "[0 1 2 3 4 5]\n"
          ]
        }
      ]
    },
    {
      "cell_type": "code",
      "source": [
        "#  9. Get all items between 5 and 10 from a.\n",
        "\n",
        "a=np.array([1,3,5,7,9,11,13])\n",
        "result=a[(a>=5)&(a<=10)]\n",
        "\n",
        "print(result)"
      ],
      "metadata": {
        "colab": {
          "base_uri": "https://localhost:8080/"
        },
        "id": "BzFDheqwjebs",
        "outputId": "2bd2adfb-e6e1-4564-894c-517e79cc9728"
      },
      "execution_count": 14,
      "outputs": [
        {
          "output_type": "stream",
          "name": "stdout",
          "text": [
            "[5 7 9]\n"
          ]
        }
      ]
    },
    {
      "cell_type": "code",
      "source": [
        "#  10. How to make a python function that handles scalars to work on numpy arrays?\n",
        "# Hint\n",
        "# Desired Output:\n",
        "# a = np.array([5, 7, 9, 8, 6, 4, 5])\n",
        "# b = np.array([6, 3, 4, 8, 9, 7, 1])\n",
        "# pair_max(a, b)\n",
        "# #> array([ 6.,  7.,  9.,  8.,  9.,  7.,  5.])\n",
        "\n",
        "def pair_max(a,b):\n",
        "  return np.maximum(a,b)\n",
        "\n",
        "a=np.array([5, 7, 9, 8, 6, 4, 5])\n",
        "b=np.array([6, 3, 4, 8, 9, 7, 1])\n",
        "result=pair_max(a,b)\n",
        "\n",
        "print(result)"
      ],
      "metadata": {
        "colab": {
          "base_uri": "https://localhost:8080/"
        },
        "id": "97BFFIaGkeQO",
        "outputId": "4df7b83a-60b0-405a-82af-9b4efeb89f4d"
      },
      "execution_count": 17,
      "outputs": [
        {
          "output_type": "stream",
          "name": "stdout",
          "text": [
            "[6 7 9 8 9 7 5]\n"
          ]
        }
      ]
    },
    {
      "cell_type": "code",
      "source": [
        "#  11. Swap columns 1 and 2 in the array arr.\n",
        "# Hint\n",
        "# Desired Output:\n",
        "# [[0 2 1]\n",
        "#  [3 5 4]\n",
        "#  [6 8 7]]\n",
        "\n",
        "arr=np.array([[0,1,2],\n",
        "              [3,4,5],\n",
        "              [6,7,8]])\n",
        "arr[:, [0,1]]=arr[:, [1,0]]\n",
        "\n",
        "print(arr)"
      ],
      "metadata": {
        "colab": {
          "base_uri": "https://localhost:8080/"
        },
        "id": "c3ZXtwEqmPp2",
        "outputId": "75fd4578-f9f3-4ae2-ec66-2d10ce3b9ad8"
      },
      "execution_count": 18,
      "outputs": [
        {
          "output_type": "stream",
          "name": "stdout",
          "text": [
            "[[1 0 2]\n",
            " [4 3 5]\n",
            " [7 6 8]]\n"
          ]
        }
      ]
    },
    {
      "cell_type": "code",
      "source": [
        "#  12. Create a 2D array of shape 5x3 to contain random decimal numbers between 5 and 10.\n",
        "# Hint\n",
        "# The desired Output should be like the following one:\n",
        "#  [[ 8.50061025  9.10531502  6.85867783]\n",
        "#   [ 9.76262069  9.87717411  7.13466701]\n",
        "#   [ 7.48966403  8.33409158  6.16808631]\n",
        "#   [ 7.75010551  9.94535696  5.27373226]\n",
        "#   [ 8.0850361   5.56165518  7.31244004]]\n",
        "\n",
        "arr=np.random.uniform(5,10, size=(5,3))\n",
        "\n",
        "print(arr)"
      ],
      "metadata": {
        "colab": {
          "base_uri": "https://localhost:8080/"
        },
        "id": "_Y4xnd3enA5u",
        "outputId": "5adf7987-e991-47ba-8161-67f393903631"
      },
      "execution_count": 20,
      "outputs": [
        {
          "output_type": "stream",
          "name": "stdout",
          "text": [
            "[[7.42020377 5.11654329 5.48349924]\n",
            " [6.51032503 7.9429925  6.09813226]\n",
            " [8.71855902 8.91456054 8.55238885]\n",
            " [7.51416713 5.19676379 9.38458064]\n",
            " [7.41583312 7.57806836 5.33925364]]\n"
          ]
        }
      ]
    },
    {
      "cell_type": "code",
      "source": [],
      "metadata": {
        "id": "ip9iFyJYlgnh"
      },
      "execution_count": null,
      "outputs": []
    }
  ]
}